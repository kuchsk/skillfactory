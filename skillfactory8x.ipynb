{
  "nbformat": 4,
  "nbformat_minor": 0,
  "metadata": {
    "colab": {
      "provenance": [],
      "authorship_tag": "ABX9TyP67JuKzlLqNDxmWmX81mSw",
      "include_colab_link": true
    },
    "kernelspec": {
      "name": "python3",
      "display_name": "Python 3"
    },
    "language_info": {
      "name": "python"
    }
  },
  "cells": [
    {
      "cell_type": "markdown",
      "metadata": {
        "id": "view-in-github",
        "colab_type": "text"
      },
      "source": [
        "<a href=\"https://colab.research.google.com/github/kuchsk/skillfactory/blob/main/skillfactory8x.ipynb\" target=\"_parent\"><img src=\"https://colab.research.google.com/assets/colab-badge.svg\" alt=\"Open In Colab\"/></a>"
      ]
    },
    {
      "cell_type": "code",
      "execution_count": 17,
      "metadata": {
        "id": "J-NVs1an1hq6"
      },
      "outputs": [],
      "source": [
        "# Вопрос по заданию 8.4 в ответе 8, у меня в ответе 4.\n",
        "# Посмотрите пожалуйста, вот вся последовательность"
      ]
    },
    {
      "cell_type": "code",
      "source": [
        "import pandas as pd\n",
        "import numpy as np\n",
        "di = pd.read_csv('https://raw.githubusercontent.com/kuchsk/PY/main/diabetes_data.csv')"
      ],
      "metadata": {
        "id": "_b6lQJftMRP5"
      },
      "execution_count": 8,
      "outputs": []
    },
    {
      "cell_type": "code",
      "source": [
        "# Задание 8.1 Начнём с поиска дубликатов в данных. Найдите все повторяющиеся строки в данных и удалите их.\n",
        "# Для поиска используйте все признаки в данных. Сколько записей осталось в данных?\n",
        "didr = di.drop_duplicates()\n",
        "didr.shape"
      ],
      "metadata": {
        "colab": {
          "base_uri": "https://localhost:8080/"
        },
        "id": "Xbg5SMWFMRH7",
        "outputId": "5d4bf1f8-617f-427c-ab4b-372b2993d54d"
      },
      "execution_count": 9,
      "outputs": [
        {
          "output_type": "execute_result",
          "data": {
            "text/plain": [
              "(768, 10)"
            ]
          },
          "metadata": {},
          "execution_count": 9
        }
      ]
    },
    {
      "cell_type": "code",
      "source": [
        "# Задание 8.2 Далее найдите все неинформативные признаки в данных и избавьтесь от них.\n",
        "# В качестве порога информативности возьмите 0.95:\n",
        "# удалите все признаки, для которых 95 % значений повторяются или 95 % записей уникальны.\n",
        "# В ответ запишите имена признаков, которые вы нашли (без кавычек).\n",
        "print(f'Сначала ответ, потом удаление, а то неудобно получается: \\\n",
        "{[col for col in didr.columns if didr[col].value_counts(normalize=True).max() > 0.95 or didr[col].nunique() / didr[col].count() > 0.95]}')\n",
        "\n",
        "didr = didr[[col for col in didr.columns if (didr[col].value_counts().max() / len(didr) < 0.95) and (didr[col].nunique() / len(didr) < 0.95)]]"
      ],
      "metadata": {
        "colab": {
          "base_uri": "https://localhost:8080/"
        },
        "id": "vKsTZ-VlMREE",
        "outputId": "1d3f907d-3f2c-4620-9fd2-1bbf59801c55"
      },
      "execution_count": 10,
      "outputs": [
        {
          "output_type": "stream",
          "name": "stdout",
          "text": [
            "Сначала ответ, потом удаление, а то неудобно получается: ['Gender']\n"
          ]
        }
      ]
    },
    {
      "cell_type": "code",
      "source": [
        "# Задание 8.3 Замените все записи, равные 0, в столбцах Glucose, BloodPressure, SkinThickness, Insulin на символ пропуска.\n",
        "# Его вы можете взять из библиотеки numpy: np.nan.\n",
        "# Какая доля пропусков содержится в столбце Insulin? Ответ округлите до сотых.\n",
        "didr = didr[['Insulin', 'Glucose', 'BloodPressure', 'SkinThickness', 'BMI']].apply(lambda x: x.replace(0, np.nan))            #!!!!!!!!!!!!!!!\n",
        "display(didr['Insulin'].isnull().mean().round(2))\n",
        "# display(round((len(list(i for i in list(didr.Insulin) if i<1)) / len(list(didr.Insulin))), 2))"
      ],
      "metadata": {
        "colab": {
          "base_uri": "https://localhost:8080/",
          "height": 35
        },
        "id": "dj76W0e7UfvY",
        "outputId": "2cf482ad-2093-4ef0-bfa6-571412b31931"
      },
      "execution_count": 11,
      "outputs": [
        {
          "output_type": "display_data",
          "data": {
            "text/plain": [
              "0.49"
            ]
          },
          "metadata": {}
        }
      ]
    },
    {
      "cell_type": "code",
      "source": [
        "# Задание 8.4 # Удалите из данных признаки, где число пропусков составляет более 30 %.\n",
        "# Сколько признаков осталось в ваших данных (с учетом удаленных неинформативных признаков в задании 8.2)?\n",
        "didr.dropna(thresh=(didr.shape[0]*0.3), axis=1).shape[1]"
      ],
      "metadata": {
        "colab": {
          "base_uri": "https://localhost:8080/"
        },
        "id": "prHHU5xwUfrk",
        "outputId": "15bc22e9-d984-49b2-ced2-1c48f85bf024"
      },
      "execution_count": 14,
      "outputs": [
        {
          "output_type": "execute_result",
          "data": {
            "text/plain": [
              "5"
            ]
          },
          "metadata": {},
          "execution_count": 14
        }
      ]
    },
    {
      "cell_type": "code",
      "source": [
        "# Задание 8.5 # Удалите из данных только те строки, в которых содержится более двух пропусков одновременно.\n",
        "# Чему равно результирующее число записей в таблице?\n",
        "didr.dropna(thresh = didr.shape[1]-3, axis = 0).shape[0]"
      ],
      "metadata": {
        "colab": {
          "base_uri": "https://localhost:8080/"
        },
        "id": "0Borm1p8ZdIS",
        "outputId": "83beae25-eb9b-41ab-f08d-f0e9e29c5314"
      },
      "execution_count": 57,
      "outputs": [
        {
          "output_type": "execute_result",
          "data": {
            "text/plain": [
              "761"
            ]
          },
          "metadata": {},
          "execution_count": 57
        }
      ]
    },
    {
      "cell_type": "code",
      "source": [
        "# альтернатива\n",
        "didr[didr.count(axis=1) >= 2].shape[0]"
      ],
      "metadata": {
        "colab": {
          "base_uri": "https://localhost:8080/"
        },
        "id": "yzI3Eid3-fiK",
        "outputId": "3c204290-d366-4976-8fbe-942706f2e7d5"
      },
      "execution_count": 55,
      "outputs": [
        {
          "output_type": "execute_result",
          "data": {
            "text/plain": [
              "761"
            ]
          },
          "metadata": {},
          "execution_count": 55
        }
      ]
    },
    {
      "cell_type": "code",
      "source": [
        "# В оставшихся записях замените пропуски на медиану. Чему равно среднее значение в столбце SkinThickness? Ответ округлите до десятых.\n",
        "didr.fillna(didr.median())\n",
        "didr.SkinThickness.mean().round(1)\n",
        "# В эталонном ответе 29,1"
      ],
      "metadata": {
        "colab": {
          "base_uri": "https://localhost:8080/"
        },
        "id": "iEqtkbOnfJXW",
        "outputId": "9e5371d7-b5bf-4111-f141-dbcf47249c96"
      },
      "execution_count": 65,
      "outputs": [
        {
          "output_type": "execute_result",
          "data": {
            "text/plain": [
              "29.2"
            ]
          },
          "metadata": {},
          "execution_count": 65
        }
      ]
    },
    {
      "cell_type": "code",
      "source": [
        "# Задание 8.7\n",
        "# Сколько выбросов найдёт классический метод межквартильного размаха в признаке SkinThickness?\n",
        "# Примечание: дальнейшая работа производится с очищенными от дубликатов, неинформативных признаков данных и пропусков.\n",
        "\n",
        "len(didr[(didr.SkinThickness > (didr.SkinThickness.quantile(0.75) + 1.5 * (didr.SkinThickness.quantile(0.75) - didr.SkinThickness.quantile(0.25))))\n",
        "     | (didr.SkinThickness < (didr.SkinThickness.quantile(0.25) - 1.5 * (didr.SkinThickness.quantile(0.75) - didr.SkinThickness.quantile(0.25))))])"
      ],
      "metadata": {
        "colab": {
          "base_uri": "https://localhost:8080/"
        },
        "id": "jcYHxKtUpSfa",
        "outputId": "a0236ff4-d599-4819-e933-3ea9f89bf3f7"
      },
      "execution_count": 84,
      "outputs": [
        {
          "output_type": "execute_result",
          "data": {
            "text/plain": [
              "87"
            ]
          },
          "metadata": {},
          "execution_count": 84
        }
      ]
    },
    {
      "cell_type": "code",
      "source": [
        "import matplotlib.pyplot as plt\n",
        "import seaborn as sns\n",
        "\n",
        "plt.figure(figsize=(8, 6))\n",
        "sns.boxplot(x=didr.SkinThickness)\n",
        "\n",
        "plt.annotate(f\"Outliers: {len(didr[(didr.SkinThickness > (didr.SkinThickness.quantile(0.75) + 1.5 * (didr.SkinThickness.quantile(0.75) - didr.SkinThickness.quantile(0.25)))) | (didr.SkinThickness < (didr.SkinThickness.quantile(0.25) - 1.5 * (didr.SkinThickness.quantile(0.75) - didr.SkinThickness.quantile(0.25))))])}\", xy=(0.5, 0.9), xycoords='axes fraction', ha='center')\n",
        "plt.show()"
      ],
      "metadata": {
        "colab": {
          "base_uri": "https://localhost:8080/",
          "height": 542
        },
        "id": "oRxjc9RYCZ6f",
        "outputId": "1b83cb4c-d379-4bc2-9228-6bb387d5e70e"
      },
      "execution_count": 83,
      "outputs": [
        {
          "output_type": "display_data",
          "data": {
            "text/plain": [
              "<Figure size 800x600 with 1 Axes>"
            ],
            "image/png": "[encoded data removed]"
          },
          "metadata": {}
        }
      ]
    },
    {
      "cell_type": "code",
      "source": [
        "# Задание 8.8\n",
        "# Сколько выбросов найдёт классический метод z-отклонения в признаке SkinThickness?\n",
        "\n",
        "import numpy as np\n",
        "z_scores = (didr.SkinThickness - np.mean(didr.SkinThickness)) / np.std(didr.SkinThickness)\n",
        "sum(np.abs(z_scores) > 3)"
      ],
      "metadata": {
        "colab": {
          "base_uri": "https://localhost:8080/"
        },
        "id": "VuPbnJ9fED9w",
        "outputId": "b5950a1e-b3af-4d01-9f7f-4bc0224a0dac"
      },
      "execution_count": 90,
      "outputs": [
        {
          "output_type": "execute_result",
          "data": {
            "text/plain": [
              "4"
            ]
          },
          "metadata": {},
          "execution_count": 90
        }
      ]
    },
    {
      "cell_type": "code",
      "source": [
        "# Задание 8.9\n",
        "# Найдите число выбросов в признаке DiabetesPedigreeFunction с помощью классического метода межквартильного размаха.\n",
        "# найдите число выбросов в этом же признаке в логарифмическом масштабе (при логарифмировании единицу прибавлять не нужно!).\n",
        "# Какова разница между двумя этими числами (вычтите из первого второе)?\n",
        "\n",
        "# !!!!!! прыгать по кускам датафрейма моветон, особенно учитывая примечание 8,7. DiabetesPedigreeFunction пропал еще в 8.2\n",
        "d = didr.DiabetesPedigreeFunction\n",
        "len(didr[(d > (d.quantile(0.75) + 1.5 * (d.quantile(0.75) - d.quantile(0.25))))\n",
        "       | (d < (d.quantile(0.25) - 1.5 * (d.quantile(0.75) - d.quantile(0.25))))])"
      ],
      "metadata": {
        "colab": {
          "base_uri": "https://localhost:8080/"
        },
        "id": "C77Wcti5Iinf",
        "outputId": "3155b46e-b04c-4abc-aa97-df1499d3c157"
      },
      "execution_count": 21,
      "outputs": [
        {
          "output_type": "execute_result",
          "data": {
            "text/plain": [
              "29"
            ]
          },
          "metadata": {},
          "execution_count": 21
        }
      ]
    },
    {
      "cell_type": "code",
      "source": [
        "# Доп задание\n",
        "import numpy as np\n",
        "\n",
        "log_feature = np.log(didr.DiabetesPedigreeFunction)\n",
        "\n",
        "# Подсчитываем количество выбросов\n",
        "outliers = sum(~np.isnan(log_feature) & ((log_feature - np.mean(log_feature)) / np.std(log_feature) < -3))\n",
        "\n",
        "print(f\"Количество выбросов в признаке после логарифмирования: {outliers}\")"
      ],
      "metadata": {
        "colab": {
          "base_uri": "https://localhost:8080/"
        },
        "id": "8ouCIQjlKqNo",
        "outputId": "c5f750c4-5e66-4ac6-dedb-6f9ca6cffd5c"
      },
      "execution_count": 22,
      "outputs": [
        {
          "output_type": "stream",
          "name": "stdout",
          "text": [
            "Количество выбросов в признаке после логарифмирования: 0\n"
          ]
        }
      ]
    }
  ]
}