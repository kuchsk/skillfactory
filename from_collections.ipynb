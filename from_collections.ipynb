{
  "nbformat": 4,
  "nbformat_minor": 0,
  "metadata": {
    "colab": {
      "name": "from_collections.ipynb",
      "provenance": [],
      "authorship_tag": "ABX9TyN/MRjhK3nDZsCrirLhip4+",
      "include_colab_link": true
    },
    "kernelspec": {
      "name": "python3",
      "display_name": "Python 3"
    },
    "language_info": {
      "name": "python"
    }
  },
  "cells": [
    {
      "cell_type": "markdown",
      "metadata": {
        "id": "view-in-github",
        "colab_type": "text"
      },
      "source": [
        "<a href=\"https://colab.research.google.com/github/kuchsk/skillfactory/blob/main/from_collections.ipynb\" target=\"_parent\"><img src=\"https://colab.research.google.com/assets/colab-badge.svg\" alt=\"Open In Colab\"/></a>"
      ]
    },
    {
      "cell_type": "code",
      "execution_count": 7,
      "metadata": {
        "colab": {
          "base_uri": "https://localhost:8080/"
        },
        "id": "mzNKWrAF2Nir",
        "outputId": "59b0b372-fb9a-4ff6-80eb-7a0a084f80a1"
      },
      "outputs": [
        {
          "output_type": "stream",
          "name": "stdout",
          "text": [
            "Counter({'red': 2, 'blue': 2, 'black': 1, 'white': 1})\n",
            "dict_values([2, 2, 1, 1])\n"
          ]
        }
      ],
      "source": [
        "from collections import Counter\n",
        "cars = ['red', 'blue', 'black', 'red', 'blue', 'white']\n",
        "c = Counter(cars)\n",
        "print(c)\n",
        "print(c.values())\n"
      ]
    },
    {
      "cell_type": "code",
      "source": [
        "cars_m = ['red', 'blue', 'black', 'red', 'blue', 'white', 'red', 'red', 'red', 'red']\n",
        "cars_s = ['red', 'blue', 'black', 'red', 'blue', 'white', 'blue', 'blue', 'blue']\n",
        "counter_m= Counter(cars_m)\n",
        "counter_s = Counter(cars_s)\n",
        "print(counter_m - counter_s)\n",
        "counter_m.subtract(counter_s)\n",
        "print(counter_m)\n",
        "print(*counter_m)\n",
        "print(list(counter_m))\n",
        "print(dict(counter_m))\n",
        "counter_m.most_common(2)\n",
        "print(counter_m)"
      ],
      "metadata": {
        "colab": {
          "base_uri": "https://localhost:8080/"
        },
        "id": "wTaidAnu20Ea",
        "outputId": "d8bd4201-1d94-41bc-b38e-9bdac9cdf961"
      },
      "execution_count": 20,
      "outputs": [
        {
          "output_type": "stream",
          "name": "stdout",
          "text": [
            "Counter({'red': 4})\n",
            "Counter({'red': 4, 'black': 0, 'white': 0, 'blue': -3})\n",
            "red blue black white\n",
            "['red', 'blue', 'black', 'white']\n",
            "{'red': 4, 'blue': -3, 'black': 0, 'white': 0}\n",
            "Counter({'red': 4, 'black': 0, 'white': 0, 'blue': -3})\n"
          ]
        }
      ]
    },
    {
      "cell_type": "code",
      "source": [
        "from collections import Counter\n",
        "\n",
        "cars_m = ['red', 'blue', 'black', 'red', 'blue', 'white', 'red', 'red', 'red', 'red']\n",
        "\n",
        "counter_m = Counter(cars_m)            \n",
        "counter_m.most_common(1)                       #!!!!!!!!!!! Не работает\n",
        "print(counter_m)"
      ],
      "metadata": {
        "colab": {
          "base_uri": "https://localhost:8080/"
        },
        "id": "njLQrVWI4Lfs",
        "outputId": "ac6fc6c4-8d36-420e-e4cd-ad28867e3518"
      },
      "execution_count": 29,
      "outputs": [
        {
          "output_type": "stream",
          "name": "stdout",
          "text": [
            "Counter({'red': 6, 'blue': 2, 'black': 1, 'white': 1})\n"
          ]
        }
      ]
    },
    {
      "cell_type": "code",
      "source": [
        ""
      ],
      "metadata": {
        "id": "HFob86n84LdZ"
      },
      "execution_count": null,
      "outputs": []
    },
    {
      "cell_type": "code",
      "source": [
        ""
      ],
      "metadata": {
        "id": "3Z8o6gNg4Lau"
      },
      "execution_count": null,
      "outputs": []
    },
    {
      "cell_type": "code",
      "source": [
        "students = [('Ivanov', 1), ('Smirnov', 4), ('Petrov', 3), ('Kuznetsova', 1), (\"Nikitina\",2),('Markov',3),('Pavlov',2)]\n",
        "groups = dict()\n",
        "for student, group in students:\n",
        "  if group not in groups:\n",
        "    groups[group] = list()\n",
        "  groups[group].append(students)\n",
        "print(groups)\n"
      ],
      "metadata": {
        "colab": {
          "base_uri": "https://localhost:8080/"
        },
        "id": "-BXnqVoq4LXz",
        "outputId": "6a3d0d7e-76de-4524-924b-fa33100239c4"
      },
      "execution_count": 31,
      "outputs": [
        {
          "output_type": "stream",
          "name": "stdout",
          "text": [
            "{1: [[('Ivanov', 1), ('Smirnov', 4), ('Petrov', 3), ('Kuznetsova', 1), ('Nikitina', 2), ('Markov', 3), ('Pavlov', 2)], [('Ivanov', 1), ('Smirnov', 4), ('Petrov', 3), ('Kuznetsova', 1), ('Nikitina', 2), ('Markov', 3), ('Pavlov', 2)]], 4: [[('Ivanov', 1), ('Smirnov', 4), ('Petrov', 3), ('Kuznetsova', 1), ('Nikitina', 2), ('Markov', 3), ('Pavlov', 2)]], 3: [[('Ivanov', 1), ('Smirnov', 4), ('Petrov', 3), ('Kuznetsova', 1), ('Nikitina', 2), ('Markov', 3), ('Pavlov', 2)], [('Ivanov', 1), ('Smirnov', 4), ('Petrov', 3), ('Kuznetsova', 1), ('Nikitina', 2), ('Markov', 3), ('Pavlov', 2)]], 2: [[('Ivanov', 1), ('Smirnov', 4), ('Petrov', 3), ('Kuznetsova', 1), ('Nikitina', 2), ('Markov', 3), ('Pavlov', 2)], [('Ivanov', 1), ('Smirnov', 4), ('Petrov', 3), ('Kuznetsova', 1), ('Nikitina', 2), ('Markov', 3), ('Pavlov', 2)]]}\n"
          ]
        }
      ]
    },
    {
      "cell_type": "code",
      "source": [
        "students = [('Ivanov', 1), ('Smirnov', 4), ('Petrov', 3), ('Kuznetsova', 1), (\"Nikitina\",2),('Markov',3),('Pavlov',2)]\n",
        "from collections import defaultdict\n",
        "groups = defaultdict(list)\n",
        "for student, group in students:\n",
        "  groups[group].append(student)\n",
        "print(groups)\n",
        "\n",
        "#Если сделать запрос с несуществующим значением, то defaultdict добавит в словарь это значение!!!\n",
        "print(groups[2021])  #!!!!!!!!!\n",
        "print(groups)        #!!!!!!!!!"
      ],
      "metadata": {
        "colab": {
          "base_uri": "https://localhost:8080/"
        },
        "id": "6h1j46HY5X4F",
        "outputId": "d126e075-3012-4e88-9eb3-37778b3309d5"
      },
      "execution_count": 37,
      "outputs": [
        {
          "output_type": "stream",
          "name": "stdout",
          "text": [
            "defaultdict(<class 'list'>, {1: ['Ivanov', 'Kuznetsova'], 4: ['Smirnov'], 3: ['Petrov', 'Markov'], 2: ['Nikitina', 'Pavlov']})\n",
            "[]\n",
            "defaultdict(<class 'list'>, {1: ['Ivanov', 'Kuznetsova'], 4: ['Smirnov'], 3: ['Petrov', 'Markov'], 2: ['Nikitina', 'Pavlov'], 2021: []})\n"
          ]
        }
      ]
    },
    {
      "cell_type": "code",
      "source": [
        "#OrderedDict\n",
        "students = [('Ivanov', 1), ('Smirnov', 4), ('Petrov', 3), ('Kuznetsova', 1), (\"Nikitina\",2),('Markov',3),('Pavlov',2)]\n",
        "from collections import OrderedDict\n",
        "ord = OrderedDict(sorted(students, key = lambda x: x[1]))\n",
        "print(ord)\n"
      ],
      "metadata": {
        "colab": {
          "base_uri": "https://localhost:8080/"
        },
        "id": "WMIHtSp75X1m",
        "outputId": "027eab4d-dab5-487f-f5f7-cd944c6bf855"
      },
      "execution_count": 57,
      "outputs": [
        {
          "output_type": "stream",
          "name": "stdout",
          "text": [
            "OrderedDict([('Ivanov', 1), ('Kuznetsova', 1), ('Nikitina', 2), ('Pavlov', 2), ('Petrov', 3), ('Markov', 3), ('Smirnov', 4)])\n"
          ]
        }
      ]
    },
    {
      "cell_type": "code",
      "source": [
        ""
      ],
      "metadata": {
        "id": "z70a37sb5Xy5"
      },
      "execution_count": null,
      "outputs": []
    },
    {
      "cell_type": "code",
      "source": [
        ""
      ],
      "metadata": {
        "id": "AIHbXYTP5XwI"
      },
      "execution_count": null,
      "outputs": []
    },
    {
      "cell_type": "code",
      "source": [
        "# !!!!!!!!!!!!!deque\n",
        "from collections import deque\n",
        "dq = deque()\n",
        "print(dq)\n",
        "\n",
        "dq_max3 = deque(maxlen=3)\n",
        "\n",
        "clients = deque()\n",
        "clients.append('Ivanov')\n",
        "clients.append('Ivanov2')\n",
        "clients.append('Ivanov3')\n",
        "clients.append('Ivanov4')\n",
        "\n",
        "print(clients)\n",
        "\n",
        "print(clients[2])\n",
        "\n",
        "first_client = clients.popleft()\n",
        "secont_client = clients.popleft()\n",
        "\n",
        "print(clients)\n",
        "\n",
        "clients.appendleft('Vip')         #!!!!!!!!!! добавим в начало очереди\n",
        "print(clients)\n",
        "\n",
        "tired_client=clients.pop()\n",
        "print(tired_client, ': Устал ждать и повесил трубку')\n",
        "print(clients)\n",
        "\n",
        "# +куча народу\n",
        "\n",
        "clients.extend(['petrov1', 'petrov3','petrov4','petrov5' ])       #extendleft\n",
        "print(clients)\n",
        "\n",
        "# , maxlen = 3  новые стирают старые\n",
        "# reverse\n",
        "# rotate и (-2)\n"
      ],
      "metadata": {
        "colab": {
          "base_uri": "https://localhost:8080/"
        },
        "id": "W5AhFWitjF05",
        "outputId": "949cebd8-b132-4077-b32a-c82c4aac5d2d"
      },
      "execution_count": 72,
      "outputs": [
        {
          "output_type": "stream",
          "name": "stdout",
          "text": [
            "deque([])\n",
            "deque(['Ivanov', 'Ivanov2', 'Ivanov3', 'Ivanov4'])\n",
            "Ivanov3\n",
            "deque(['Ivanov3', 'Ivanov4'])\n",
            "deque(['Vip', 'Ivanov3', 'Ivanov4'])\n",
            "Ivanov4 : Устал ждать и повесил трубку\n",
            "deque(['Vip', 'Ivanov3'])\n",
            "deque(['Vip', 'Ivanov3', 'petrov1', 'petrov3', 'petrov4', 'petrov5'])\n"
          ]
        }
      ]
    },
    {
      "cell_type": "code",
      "source": [
        "dq = deque([1,2,3,4,5,6,7,7,7,7,78,2])\n",
        "print(dq.index(4))\n",
        "print(dq.count(7))\n",
        "print(dq.count(255))"
      ],
      "metadata": {
        "colab": {
          "base_uri": "https://localhost:8080/"
        },
        "id": "uRB7U3lYjFyQ",
        "outputId": "a16f8498-4412-4555-e364-b94efab25a21"
      },
      "execution_count": 76,
      "outputs": [
        {
          "output_type": "stream",
          "name": "stdout",
          "text": [
            "3\n",
            "4\n",
            "0\n"
          ]
        }
      ]
    },
    {
      "cell_type": "code",
      "source": [
        ""
      ],
      "metadata": {
        "id": "2msQvO8bjFvk"
      },
      "execution_count": null,
      "outputs": []
    },
    {
      "cell_type": "code",
      "source": [
        ""
      ],
      "metadata": {
        "id": "5WkHVPKljFsV"
      },
      "execution_count": null,
      "outputs": []
    }
  ]
}